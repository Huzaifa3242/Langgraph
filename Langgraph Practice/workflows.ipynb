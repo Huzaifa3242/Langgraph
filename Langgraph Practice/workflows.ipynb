{
 "cells": [
  {
   "cell_type": "code",
   "execution_count": 4,
   "id": "0150cc11",
   "metadata": {},
   "outputs": [],
   "source": [
    "from langchain_openai import ChatOpenAI\n",
    "from typing import Annotated\n",
    "from typing_extensions import TypedDict\n",
    "from langgraph.graph.message import add_messages\n",
    "from langgraph.graph import StateGraph,START,END\n",
    "from dotenv import load_dotenv\n",
    "from pydantic import BaseModel,Field\n",
    "import operator"
   ]
  },
  {
   "cell_type": "code",
   "execution_count": 5,
   "id": "1978d194",
   "metadata": {},
   "outputs": [
    {
     "data": {
      "text/plain": [
       "True"
      ]
     },
     "execution_count": 5,
     "metadata": {},
     "output_type": "execute_result"
    }
   ],
   "source": [
    "load_dotenv()"
   ]
  },
  {
   "cell_type": "code",
   "execution_count": 6,
   "id": "6a8a414d",
   "metadata": {},
   "outputs": [],
   "source": [
    "essay =\"\"\"\n",
    "The Rise of Artificial Intelligence\n",
    "In recent years, Artificial Intelligence (AI) has emerged as one of the most transformative forces in modern technology. From self-driving cars and virtual assistants to advanced medical diagnostics and content creation, AI is rapidly reshaping industries and the way we live. The rise of AI is not just a technological trend; it represents a fundamental shift in how humans interact with machines, data, and the world around them.\n",
    "\n",
    "The roots of AI can be traced back to the mid-20th century, when scientists first began exploring the idea of machines that could simulate human intelligence. However, progress was slow due to limited computing power and lack of data. The situation changed dramatically in the 21st century with the explosion of digital data, the development of powerful computing hardware, and breakthroughs in machine learning—particularly deep learning and neural networks. These advancements allowed AI systems to learn from massive datasets, recognize patterns, and make decisions with remarkable accuracy.\n",
    "\n",
    "One of the most visible signs of AI's rise is its integration into everyday life. Voice assistants like Siri, Alexa, and Google Assistant use natural language processing to understand and respond to user queries. Recommendation algorithms on platforms like YouTube, Netflix, and Amazon use AI to predict what users will like. In healthcare, AI helps doctors analyze medical images, predict disease outbreaks, and even assist in surgeries. In business, AI streamlines operations, enhances customer service, and enables data-driven decision-making.\n",
    "\n",
    "Despite its many benefits, the rise of AI also brings significant concerns. One major issue is job displacement. As AI systems become more capable, they may replace human workers in fields such as transportation, manufacturing, and customer service. This could lead to economic disruption and increased inequality if proper measures are not taken to reskill workers and ensure fair transitions. Additionally, ethical concerns arise around data privacy, surveillance, and the use of AI in autonomous weapons or deepfake technologies.\n",
    "\n",
    "Another important concern is the question of bias. AI systems are only as good as the data they are trained on. If that data reflects societal biases, the AI will too. This can lead to discriminatory outcomes in areas like hiring, lending, and law enforcement. Therefore, responsible AI development must prioritize fairness, transparency, and accountability.\n",
    "\n",
    "In conclusion, the rise of AI marks a new era in technological advancement. It offers immense potential to improve lives, solve complex problems, and drive innovation across sectors. However, this power comes with responsibility. Governments, companies, and individuals must work together to ensure that AI is developed and used ethically, inclusively, and for the benefit of all. As we move forward, the challenge will be not just to build intelligent machines, but to do so wisely.\n",
    "\n",
    "\"\"\""
   ]
  },
  {
   "cell_type": "code",
   "execution_count": 7,
   "id": "dfb8ed12",
   "metadata": {},
   "outputs": [],
   "source": [
    "class Output(BaseModel):\n",
    "    feedback:str=Field(description=\"Feedback to the essay\")\n",
    "    score:int = Field(description=\"Score of the feedback\",ge=0,le=10)"
   ]
  },
  {
   "cell_type": "code",
   "execution_count": 8,
   "id": "c00421f7",
   "metadata": {},
   "outputs": [],
   "source": [
    "llm = ChatOpenAI(model=\"gpt-3.5-turbo\",temperature=0)"
   ]
  },
  {
   "cell_type": "code",
   "execution_count": 9,
   "id": "8763f512",
   "metadata": {},
   "outputs": [
    {
     "name": "stderr",
     "output_type": "stream",
     "text": [
      "c:\\Users\\huzai\\Desktop\\Data Science\\Gen AI\\Genai_langgraph\\.venv\\Lib\\site-packages\\langchain_openai\\chat_models\\base.py:1857: UserWarning: Cannot use method='json_schema' with model gpt-3.5-turbo since it doesn't support OpenAI's Structured Output API. You can see supported models here: https://platform.openai.com/docs/guides/structured-outputs#supported-models. To fix this warning, set `method='function_calling'. Overriding to method='function_calling'.\n",
      "  warnings.warn(\n"
     ]
    }
   ],
   "source": [
    "structured_llm = llm.with_structured_output(Output)"
   ]
  },
  {
   "cell_type": "code",
   "execution_count": 10,
   "id": "53549488",
   "metadata": {},
   "outputs": [
    {
     "data": {
      "text/plain": [
       "Output(feedback='The essay provides a comprehensive overview of the rise of Artificial Intelligence (AI), highlighting its transformative impact on various industries and everyday life. The historical context and technological advancements in AI are well-explained, along with the benefits and concerns associated with its proliferation. The essay effectively discusses the integration of AI in different sectors and emphasizes the importance of ethical considerations and responsible development. Overall, it is well-structured and informative, covering key aspects of the topic.', score=9)"
      ]
     },
     "execution_count": 10,
     "metadata": {},
     "output_type": "execute_result"
    }
   ],
   "source": [
    "structured_llm.invoke(essay)"
   ]
  },
  {
   "cell_type": "code",
   "execution_count": 42,
   "id": "b3197ab5",
   "metadata": {},
   "outputs": [],
   "source": [
    "class EssayState(TypedDict):\n",
    "\n",
    "    essay:str\n",
    "    lang_feedback:str\n",
    "    content_feedback:str\n",
    "    clarity_feedback:str\n",
    "    final_feedback:str\n",
    "    individual_score:Annotated[list[int],operator.add]\n",
    "    avg_score :float"
   ]
  },
  {
   "cell_type": "code",
   "execution_count": 43,
   "id": "28250aca",
   "metadata": {},
   "outputs": [],
   "source": [
    "def language_feedback(state:EssayState):\n",
    "\n",
    "    essay = state['essay']\n",
    "\n",
    "    prompt = f\"\"\"Evaluate the following essay based on language criteria and Give feedback and score.\n",
    "      Essay:\n",
    "        \\\"\\\"\\\"{essay}\\\"\\\"\\\"\n",
    "        \"\"\"\n",
    "    \n",
    "    result=structured_llm.invoke(prompt)\n",
    "    return {'lang_feedback':result.feedback,'individual_score':[result.score]}\n"
   ]
  },
  {
   "cell_type": "code",
   "execution_count": 44,
   "id": "cb301022",
   "metadata": {},
   "outputs": [],
   "source": [
    "def content_feedback(state:EssayState):\n",
    "\n",
    "    essay = state['essay']\n",
    "\n",
    "    prompt = f\"\"\"Evaluate the following essay based on content criteria and Give feedback and score.\n",
    "      Essay:\n",
    "        \\\"\\\"\\\"{essay}\\\"\\\"\\\"\n",
    "        \"\"\"\n",
    "    \n",
    "    result=structured_llm.invoke(prompt)\n",
    "    return {'content_feedback':result.feedback,'individual_score':[result.score]}\n"
   ]
  },
  {
   "cell_type": "code",
   "execution_count": 45,
   "id": "81d375b7",
   "metadata": {},
   "outputs": [],
   "source": [
    "def clarity_feedback(state:EssayState):\n",
    "\n",
    "    essay = state['essay']\n",
    "\n",
    "    prompt = f\"\"\"Evaluate the following essay based on clarity of topic and Give feedback and score.\n",
    "      Essay:\n",
    "        \\\"\\\"\\\"{essay}\\\"\\\"\\\"\n",
    "        \"\"\"\n",
    "    \n",
    "    result=structured_llm.invoke(prompt)\n",
    "    return {'clarity_feedback':result.feedback,'individual_score':[result.score]}\n"
   ]
  },
  {
   "cell_type": "code",
   "execution_count": 46,
   "id": "10308bec",
   "metadata": {},
   "outputs": [],
   "source": [
    "def final_feedback(state:EssayState):\n",
    "\n",
    "    prompt = f\"\"\"Evaluate the following essay based on given criterias feedback  and Give overall feedback for this\n",
    "      Language criteria feedback:{state['lang_feedback']}\n",
    "      Clarity criteria feedback:{state['clarity_feedback']}\n",
    "      Content criteria feedback:{state['content_feedback']}\n",
    "        \"\"\"\n",
    "    \n",
    "    result= llm.invoke(prompt)\n",
    "    score = sum(state['individual_score'])/len(state['individual_score'])\n",
    "\n",
    "    return {'final_feedback':result.content,'avg_score':[score]}\n"
   ]
  },
  {
   "cell_type": "code",
   "execution_count": 47,
   "id": "b55bcea4",
   "metadata": {},
   "outputs": [],
   "source": [
    "graph = StateGraph(EssayState)\n",
    "\n",
    "graph.add_node(\"lang_feedback\",language_feedback)\n",
    "graph.add_node(\"content_feedback\",content_feedback)\n",
    "graph.add_node(\"clarity_feedback\",clarity_feedback)\n",
    "graph.add_node(\"final_feedback\",final_feedback)\n",
    "\n",
    "graph.add_edge(START,\"lang_feedback\")\n",
    "graph.add_edge(START,\"content_feedback\")\n",
    "graph.add_edge(START,\"clarity_feedback\")\n",
    "\n",
    "graph.add_edge(\"lang_feedback\",\"final_feedback\")\n",
    "graph.add_edge(\"content_feedback\",\"final_feedback\")\n",
    "graph.add_edge(\"clarity_feedback\",\"final_feedback\")\n",
    "\n",
    "graph.add_edge(\"final_feedback\",END)\n",
    "\n",
    "workflow=graph.compile()"
   ]
  },
  {
   "cell_type": "code",
   "execution_count": 48,
   "id": "5af70525",
   "metadata": {},
   "outputs": [
    {
     "data": {
      "image/png": "[encoded data removed]",
      "text/plain": [
       "<langgraph.graph.state.CompiledStateGraph object at 0x000001BEF91F4190>"
      ]
     },
     "execution_count": 48,
     "metadata": {},
     "output_type": "execute_result"
    }
   ],
   "source": [
    "workflow"
   ]
  },
  {
   "cell_type": "code",
   "execution_count": 49,
   "id": "1800ebe3",
   "metadata": {},
   "outputs": [],
   "source": [
    "input = {\"essay\":essay}\n",
    "output_state = workflow.invoke(input)"
   ]
  },
  {
   "cell_type": "code",
   "execution_count": 50,
   "id": "01ed5b11",
   "metadata": {},
   "outputs": [
    {
     "data": {
      "text/plain": [
       "{'essay': \"\\nThe Rise of Artificial Intelligence\\nIn recent years, Artificial Intelligence (AI) has emerged as one of the most transformative forces in modern technology. From self-driving cars and virtual assistants to advanced medical diagnostics and content creation, AI is rapidly reshaping industries and the way we live. The rise of AI is not just a technological trend; it represents a fundamental shift in how humans interact with machines, data, and the world around them.\\n\\nThe roots of AI can be traced back to the mid-20th century, when scientists first began exploring the idea of machines that could simulate human intelligence. However, progress was slow due to limited computing power and lack of data. The situation changed dramatically in the 21st century with the explosion of digital data, the development of powerful computing hardware, and breakthroughs in machine learning—particularly deep learning and neural networks. These advancements allowed AI systems to learn from massive datasets, recognize patterns, and make decisions with remarkable accuracy.\\n\\nOne of the most visible signs of AI's rise is its integration into everyday life. Voice assistants like Siri, Alexa, and Google Assistant use natural language processing to understand and respond to user queries. Recommendation algorithms on platforms like YouTube, Netflix, and Amazon use AI to predict what users will like. In healthcare, AI helps doctors analyze medical images, predict disease outbreaks, and even assist in surgeries. In business, AI streamlines operations, enhances customer service, and enables data-driven decision-making.\\n\\nDespite its many benefits, the rise of AI also brings significant concerns. One major issue is job displacement. As AI systems become more capable, they may replace human workers in fields such as transportation, manufacturing, and customer service. This could lead to economic disruption and increased inequality if proper measures are not taken to reskill workers and ensure fair transitions. Additionally, ethical concerns arise around data privacy, surveillance, and the use of AI in autonomous weapons or deepfake technologies.\\n\\nAnother important concern is the question of bias. AI systems are only as good as the data they are trained on. If that data reflects societal biases, the AI will too. This can lead to discriminatory outcomes in areas like hiring, lending, and law enforcement. Therefore, responsible AI development must prioritize fairness, transparency, and accountability.\\n\\nIn conclusion, the rise of AI marks a new era in technological advancement. It offers immense potential to improve lives, solve complex problems, and drive innovation across sectors. However, this power comes with responsibility. Governments, companies, and individuals must work together to ensure that AI is developed and used ethically, inclusively, and for the benefit of all. As we move forward, the challenge will be not just to build intelligent machines, but to do so wisely.\\n\\n\",\n",
       " 'lang_feedback': \"The essay on 'The Rise of Artificial Intelligence' is well-written and effectively conveys the significance of AI in modern technology. The language used is clear, concise, and engaging, making it easy for readers to understand the complex concepts discussed. The essay effectively explores the history of AI, its current applications, benefits, concerns, and the importance of responsible development. The transitions between different ideas are smooth, and the essay maintains a coherent structure throughout. Overall, the language criteria are met with a high standard in this essay.\",\n",
       " 'content_feedback': \"The essay provides a comprehensive overview of the rise of Artificial Intelligence, covering its history, applications, benefits, concerns, and the importance of responsible development. The content is well-structured and informative, addressing key aspects of AI's impact on various sectors. The essay effectively highlights the potential of AI while also acknowledging the challenges and ethical considerations associated with its advancement. Overall, the essay is well-researched and presents a balanced perspective on the topic.\",\n",
       " 'clarity_feedback': \"The essay on 'The Rise of Artificial Intelligence' is well-structured and provides a comprehensive overview of the topic. The introduction effectively sets the stage for discussing the impact of AI on various aspects of society. The essay covers the historical background, current applications, benefits, concerns, and the importance of responsible AI development. The conclusion effectively summarizes the key points and emphasizes the need for ethical and inclusive AI development. Overall, the essay is clear in presenting the topic and its implications.\",\n",
       " 'final_feedback': \"Overall feedback:\\nThe essay on 'The Rise of Artificial Intelligence' is well-written, clear, and informative. It effectively covers the history, applications, benefits, concerns, and importance of responsible development of AI. The language used is engaging and easy to understand, making complex concepts accessible to readers. The structure of the essay is coherent, with smooth transitions between ideas. The content is well-researched and presents a balanced perspective on the topic. Overall, the essay meets the criteria for language, clarity, and content with a high standard. Great job!\",\n",
       " 'individual_score': [9, 9, 9],\n",
       " 'avg_score': [9.0]}"
      ]
     },
     "execution_count": 50,
     "metadata": {},
     "output_type": "execute_result"
    }
   ],
   "source": [
    "output_state"
   ]
  },
  {
   "cell_type": "code",
   "execution_count": 51,
   "id": "55e4fd86",
   "metadata": {},
   "outputs": [],
   "source": [
    "essay_with_mistakes = \"\"\"\n",
    "The Important of Education in Modern Society\n",
    "\n",
    "Education is plays very crucial role in today's world. It is not just about learning facts and figures, but it help people to develop critical thinking skills and prepare for there future careers. In this essay, I will discuss why education are so important and how it impact our lives.\n",
    "\n",
    "First of all, education provide people with knowledge and skills what they need to succeed in life. When student go to school, they learns many different subjects like math, science, history, and literature. This knowledge help them to understand the world around them better. For example, learning science help people to understand how things work, while studying history teach them about past events and there lessons.\n",
    "\n",
    "Moreover, education also help people to develop important life skills. In school, students learn how to work with others, how to solve problems, and how to communicate effective. These skills is very valuable in workplace and in personal relationships. When people have good education, they can think more clearly and make better decisions in there life.\n",
    "\n",
    "Another important benefit of education is that it open many opportunities for people. Those who have good education usually get better jobs and earn more money. They also have more choices about what career they want to pursue. Education give people the freedom to choose there own path in life instead of being limited to few options.\n",
    "\n",
    "Furthermore, education help to reduce poverty and inequality in society. When more people have access to quality education, they can improve there economic situation and live better lives. This not only benefit individuals but also help to strengthen the whole community and country.\n",
    "\n",
    "However, there is still many challenges in education system today. Some schools don't have enough resources or qualified teachers. Also, not all children around the world have same access to education. These problems need to be address if we want education to reach its full potential.\n",
    "\n",
    "In conclusion, education is extremely important for individual development and social progress. It provide knowledge, develop skills, create opportunities, and help reduce inequality. Although there is challenges, we must continue to invest in education because it is the foundation of successful and prosperous society. Every person deserve access to quality education, regardless of there background or circumstances.\n",
    "\"\"\"\n",
    "\n",
    "# Test with the essay containing mistakes\n",
    "input_mistakes = {\"essay\": essay_with_mistakes}\n",
    "output_state_mistakes = workflow.invoke(input_mistakes)"
   ]
  },
  {
   "cell_type": "code",
   "execution_count": 52,
   "id": "d9935209",
   "metadata": {},
   "outputs": [
    {
     "data": {
      "text/plain": [
       "{'essay': \"\\nThe Important of Education in Modern Society\\n\\nEducation is plays very crucial role in today's world. It is not just about learning facts and figures, but it help people to develop critical thinking skills and prepare for there future careers. In this essay, I will discuss why education are so important and how it impact our lives.\\n\\nFirst of all, education provide people with knowledge and skills what they need to succeed in life. When student go to school, they learns many different subjects like math, science, history, and literature. This knowledge help them to understand the world around them better. For example, learning science help people to understand how things work, while studying history teach them about past events and there lessons.\\n\\nMoreover, education also help people to develop important life skills. In school, students learn how to work with others, how to solve problems, and how to communicate effective. These skills is very valuable in workplace and in personal relationships. When people have good education, they can think more clearly and make better decisions in there life.\\n\\nAnother important benefit of education is that it open many opportunities for people. Those who have good education usually get better jobs and earn more money. They also have more choices about what career they want to pursue. Education give people the freedom to choose there own path in life instead of being limited to few options.\\n\\nFurthermore, education help to reduce poverty and inequality in society. When more people have access to quality education, they can improve there economic situation and live better lives. This not only benefit individuals but also help to strengthen the whole community and country.\\n\\nHowever, there is still many challenges in education system today. Some schools don't have enough resources or qualified teachers. Also, not all children around the world have same access to education. These problems need to be address if we want education to reach its full potential.\\n\\nIn conclusion, education is extremely important for individual development and social progress. It provide knowledge, develop skills, create opportunities, and help reduce inequality. Although there is challenges, we must continue to invest in education because it is the foundation of successful and prosperous society. Every person deserve access to quality education, regardless of there background or circumstances.\\n\",\n",
       " 'lang_feedback': \"The essay contains several language errors such as grammatical mistakes, spelling errors, and incorrect word usage. The use of 'there' instead of 'their' is consistent throughout the essay. Additionally, there are issues with subject-verb agreement and sentence structure. The essay could benefit from proofreading and editing to improve clarity and coherence.\",\n",
       " 'content_feedback': 'The essay discusses the importance of education in modern society and highlights its benefits such as providing knowledge, developing skills, creating opportunities, and reducing inequality. It also acknowledges the challenges in the education system. However, there are several grammatical errors and inconsistencies in the essay that affect its clarity and coherence. The use of incorrect verb tenses, spelling errors, and lack of proper punctuation detract from the overall quality of the essay. Additionally, some points could be further elaborated to strengthen the argument. Overall, the essay addresses the topic but needs improvement in language and structure.',\n",
       " 'clarity_feedback': \"The essay discusses the importance of education in modern society, highlighting its role in providing knowledge, developing skills, creating opportunities, and reducing inequality. However, there are several grammatical errors and inconsistencies in the essay that affect its clarity. The use of incorrect grammar, such as 'there' instead of 'their' and 'are' instead of 'is', detracts from the overall quality of the essay. Additionally, some sentences are awkwardly phrased, making it difficult to follow the writer's argument. The essay would benefit from a thorough proofreading and restructuring of sentences to improve coherence and clarity.\",\n",
       " 'final_feedback': 'Overall feedback:\\nThe essay has potential as it discusses an important topic - the importance of education in modern society. However, the language errors, lack of clarity, and inconsistencies in content detract from the overall quality of the essay. The essay would greatly benefit from thorough proofreading, editing, and restructuring of sentences to improve coherence and clarity. Additionally, further elaboration on certain points and strengthening of the argument would enhance the overall quality of the essay. With some revisions and improvements, the essay could be more effective in conveying its message.',\n",
       " 'individual_score': [6, 6, 4],\n",
       " 'avg_score': [5.333333333333333]}"
      ]
     },
     "execution_count": 52,
     "metadata": {},
     "output_type": "execute_result"
    }
   ],
   "source": [
    "output_state_mistakes"
   ]
  },
  {
   "cell_type": "code",
   "execution_count": null,
   "id": "d33ff502",
   "metadata": {},
   "outputs": [],
   "source": []
  }
 ],
 "metadata": {
  "kernelspec": {
   "display_name": "genai-langgraph (3.13.5)",
   "language": "python",
   "name": "python3"
  },
  "language_info": {
   "codemirror_mode": {
    "name": "ipython",
    "version": 3
   },
   "file_extension": ".py",
   "mimetype": "text/x-python",
   "name": "python",
   "nbconvert_exporter": "python",
   "pygments_lexer": "ipython3",
   "version": "3.13.5"
  }
 },
 "nbformat": 4,
 "nbformat_minor": 5
}
